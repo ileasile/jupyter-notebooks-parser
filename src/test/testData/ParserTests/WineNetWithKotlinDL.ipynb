{
 "cells": [
  {
   "cell_type": "markdown",
   "metadata": {},
   "source": [
    "# Predict wine quality"
   ]
  },
  {
   "cell_type": "markdown",
   "metadata": {},
   "source": [
    "Use the latest versions of DataFrame and KotlinDL libraries from [version repository](https://github.com/Kotlin/kotlin-jupyter-libraries)."
   ]
  },
  {
   "cell_type": "code",
   "execution_count": 1,
   "metadata": {},
   "outputs": [
    {
     "data": {
      "text/html": [
       "        <html>\n",
       "        <head>\n",
       "            <style type=\"text/css\">\n",
       "                table.dataframe {\n",
       "    font-family: \"Helvetica Neue\", Helvetica, Arial, sans-serif;\n",
       "    font-size: 12px;\n",
       "}\n",
       "table.dataframe a {\n",
       "    cursor: pointer;\n",
       "    color: #296eaa;\n",
       "    text-decoration: none;\n",
       "}\n",
       "table.dataframe a:hover {\n",
       "    color: #1a466c;\n",
       "    text-decoration: underline;\n",
       "}\n",
       "table.dataframe tr:nth-child(odd) {\n",
       "    background: rgb(245, 245, 245);\n",
       "}\n",
       "table.dataframe tr:nth-child(even) {\n",
       "    background: #FFF\n",
       "}\n",
       "table.dataframe tr:hover {\n",
       "    background: rgba(66, 165, 245, 0.2);\n",
       "}\n",
       "th.complex {\n",
       "    background-color: white;\n",
       "    border: 1px solid #ffffff;\n",
       "}\n",
       "table.dataframe th {\n",
       "    background-color: white;\n",
       "    padding: 6px;\n",
       "    border: 1px solid transparent;\n",
       "    text-align: left;\n",
       "}\n",
       "\n",
       "table.dataframe td {\n",
       "    padding: 6px;\n",
       "    border: 1px solid transparent;\n",
       "    text-align: left;\n",
       "    vertical-align: top;\n",
       "}\n",
       "table.dataframe th.bottomBorder {\n",
       "    border-bottom-color: black;\n",
       "}\n",
       "table.dataframe {\n",
       "    border: none;\n",
       "    border-collapse: collapse;\n",
       "}\n",
       "table.dataframe .leftBorder {\n",
       "    border-left-color: #aaa;\n",
       "}\n",
       "table.dataframe .rightBorder {\n",
       "    border-right-color: #aaa;\n",
       "}\n",
       "table.dataframe .rightAlign {\n",
       "    text-align: right;\n",
       "}\n",
       "table.dataframe .expanderSvg {\n",
       "    width: 8px;\n",
       "    height: 8px;\n",
       "    margin-right: 3px;\n",
       "}\n",
       "table.dataframe .expander {\n",
       "    display: flex;\n",
       "    align-items: center;\n",
       "}\n",
       "\n",
       "table.dataframe .null {\n",
       "    color: #b3b3cc;\n",
       "}\n",
       "table.dataframe .structural {\n",
       "    color: #737373;\n",
       "    font-weight: bold;\n",
       "}\n",
       "table.dataframe .numbers {\n",
       "    color: black;\n",
       "}\n",
       "table.dataframe .dataFrameCaption {\n",
       "    font-weight: bold;\n",
       "}\n",
       "table.dataframe td:hover > .formatted .structural {\n",
       "    color: black;\n",
       "}\n",
       "table.dataframe td:hover > .formatted .null {\n",
       "    color: black;\n",
       "}\n",
       "\n",
       "            </style>\n",
       "        </head>\n",
       "        <body>\n",
       "            \n",
       "        </body>\n",
       "        <script>\n",
       "            function addTable(df) {\n",
       "    let cols = df.cols;\n",
       "    for(let i=0;i<cols.length;i++){\n",
       "        for(let c of cols[i].children){\n",
       "            cols[c].parent = i;\n",
       "        }\n",
       "    }\n",
       "    df.nrow = 0\n",
       "    for(let i=0;i<df.cols.length;i++){\n",
       "        if(df.cols[i].values.length > df.nrow) df.nrow = df.cols[i].values.length\n",
       "    }\n",
       "    if(df.id === df.rootId)\n",
       "    {\n",
       "        df.expandedFrames = new Set()\n",
       "        df.childFrames = { }\n",
       "        const table = getTableElement(df.id)\n",
       "        table.df = df\n",
       "        for(let i=0;i<df.cols.length;i++){\n",
       "            if(df.cols[i].children.length > 0) df.cols[i].expanded = true\n",
       "        }\n",
       "    }else {\n",
       "        const rootDf = getTableData(df.rootId)\n",
       "        rootDf.childFrames[df.id] = df\n",
       "    }\n",
       "}\n",
       "\n",
       "function computeRenderData(df) {\n",
       "    let result = []\n",
       "    let pos = 0\n",
       "    for(let col=0;col<df.cols.length;col++){\n",
       "        if(df.cols[col].parent === undefined)\n",
       "            pos += computeRenderDataRec(df.cols, col, pos, 0, result, false, false)\n",
       "    }\n",
       "    for(let i=0;i<result.length;i++){\n",
       "        let row = result[i]\n",
       "        for(let j=0;j<row.length;j++){\n",
       "            let cell = row[j]\n",
       "            if(j === 0)\n",
       "                cell.leftBd = false\n",
       "            if(j < row.length-1){\n",
       "                let nextData = row[j+1]\n",
       "                if(nextData.leftBd) cell.rightBd = true\n",
       "                else if(cell.rightBd) nextData.leftBd = true\n",
       "            } else cell.rightBd = false\n",
       "        }\n",
       "    }\n",
       "    return result\n",
       "}\n",
       "\n",
       "function computeRenderDataRec(cols, colId, pos, depth, result, leftBorder, rightBorder) {\n",
       "    if(result.length === depth){\n",
       "        const array = [];\n",
       "        if(pos > 0)\n",
       "        {\n",
       "            let j = 0\n",
       "            for(let i = 0; j < pos; i++)\n",
       "            {\n",
       "                let c = result[depth-1][i]\n",
       "                j += c.span\n",
       "                let copy = Object.assign({empty: true}, c)\n",
       "                array.push(copy)\n",
       "            }\n",
       "        }\n",
       "        result.push(array)\n",
       "    }\n",
       "    const col = cols[colId];\n",
       "    let size = 0;\n",
       "    if(col.expanded)\n",
       "    {\n",
       "        let childPos = pos\n",
       "        for(let i=0;i<col.children.length;i++){\n",
       "            let child = col.children[i]\n",
       "            let childLeft = i === 0 && (col.children.length > 1 || leftBorder)\n",
       "            let childRight = i === col.children.length-1 && (col.children.length > 1 || rightBorder)\n",
       "            let childSize = computeRenderDataRec(cols, child, childPos, depth+1, result, childLeft, childRight)\n",
       "            childPos += childSize\n",
       "            size += childSize\n",
       "        }\n",
       "    }\n",
       "    else{\n",
       "        for(let i = depth+1;i<result.length;i++)\n",
       "            result[i].push({id: colId, span: 1, leftBd: leftBorder, rightBd: rightBorder, empty:true})\n",
       "        size = 1\n",
       "    }\n",
       "    let left = leftBorder\n",
       "    let right = rightBorder\n",
       "    if(size > 1) {\n",
       "        left = true\n",
       "        right = true\n",
       "    }\n",
       "    result[depth].push({id: colId, span: size, leftBd: left, rightBd: right})\n",
       "    return size\n",
       "}\n",
       "\n",
       "function getTableElement(id) {\n",
       "    return document.getElementById(\"df_\" + id)\n",
       "}\n",
       "\n",
       "function getTableData(id) {\n",
       "    return getTableElement(id).df\n",
       "}\n",
       "\n",
       "function createExpander(isExpanded) {\n",
       "    const svgNs = \"http://www.w3.org/2000/svg\"\n",
       "    let svg = document.createElementNS(svgNs, \"svg\")\n",
       "    svg.classList.add(\"expanderSvg\")\n",
       "    let path = document.createElementNS(svgNs, \"path\")\n",
       "    if(isExpanded){\n",
       "        svg.setAttribute(\"viewBox\", \"0 -2 8 8\")\n",
       "        path.setAttribute(\"d\", \"M1 0 l-1 1 4 4 4 -4 -1 -1 -3 3Z\")\n",
       "    } else {\n",
       "        svg.setAttribute(\"viewBox\", \"-2 0 8 8\")\n",
       "        path.setAttribute(\"d\", \"M1 0 l-1 1 3 3 -3 3 1 1 4 -4Z\")\n",
       "    }\n",
       "    path.setAttribute(\"fill\", \"currentColor\")\n",
       "    svg.appendChild(path)\n",
       "    return svg\n",
       "}\n",
       "\n",
       "function renderTable(id) {\n",
       "\n",
       "    let table = getTableElement(id)\n",
       "\n",
       "    if(table === null) return\n",
       "\n",
       "    table.innerHTML = \"\"\n",
       "\n",
       "    let df = table.df\n",
       "    let rootDf = df.rootId === df.id ? df : getTableData(df.rootId)\n",
       "\n",
       "    // header\n",
       "    let header = document.createElement(\"thead\")\n",
       "    table.appendChild(header)\n",
       "\n",
       "    let renderData = computeRenderData(df)\n",
       "    for(let j=0;j<renderData.length;j++){\n",
       "        let rowData = renderData[j]\n",
       "        let tr = document.createElement(\"tr\");\n",
       "        let isLastRow = j === renderData.length-1\n",
       "        header.appendChild(tr);\n",
       "        for(let i = 0;i<rowData.length;i++) {\n",
       "            let cell = rowData[i]\n",
       "            let th = document.createElement(\"th\");\n",
       "            th.setAttribute(\"colspan\", cell.span)\n",
       "            let colId = cell.id\n",
       "            let col = df.cols[colId];\n",
       "            if(!cell.empty) {\n",
       "                if(col.children.length === 0){\n",
       "                    th.innerHTML = col.name\n",
       "                }else {\n",
       "                    let link = document.createElement(\"a\")\n",
       "                    link.className = \"expander\"\n",
       "                    link.onclick = function () {\n",
       "                        col.expanded = !col.expanded\n",
       "                        renderTable(id)\n",
       "                    }\n",
       "                    link.appendChild(createExpander(col.expanded))\n",
       "                    link.innerHTML += col.name\n",
       "                    th.appendChild(link)\n",
       "                }\n",
       "            }\n",
       "            let classes = (cell.leftBd ? \" leftBorder\" : \"\") + (cell.rightBd ? \" rightBorder\" : \"\")\n",
       "            if(col.rightAlign)\n",
       "                classes += \" rightAlign\"\n",
       "            if(isLastRow)\n",
       "                classes += \" bottomBorder\"\n",
       "            if(classes.length > 0)\n",
       "                th.setAttribute(\"class\", classes)\n",
       "            tr.appendChild(th)\n",
       "        }\n",
       "    }\n",
       "\n",
       "    // body\n",
       "    let body = document.createElement(\"tbody\")\n",
       "    table.appendChild(body)\n",
       "\n",
       "    let columns = renderData.pop()\n",
       "    for(let row = 0; row < df.nrow; row++) {\n",
       "        let tr = document.createElement(\"tr\");\n",
       "        body.appendChild(tr)\n",
       "        for(let i = 0; i<columns.length;i++) {\n",
       "            let cell = columns[i]\n",
       "            let td = document.createElement(\"td\");\n",
       "            let colId = cell.id\n",
       "            let col = df.cols[colId]\n",
       "            let classes = (cell.leftBd ? \" leftBorder\" : \"\") + (cell.rightBd ? \" rightBorder\" : \"\")\n",
       "            if(col.rightAlign)\n",
       "                classes += \" rightAlign\"\n",
       "            if(classes.length > 0)\n",
       "                td.setAttribute(\"class\", classes)\n",
       "            tr.appendChild(td)\n",
       "            let value = col.values[row]\n",
       "            if(value.frameId !== undefined) {\n",
       "                let frameId = value.frameId\n",
       "                let expanded = rootDf.expandedFrames.has(frameId)\n",
       "                let link = document.createElement(\"a\")\n",
       "                link.className = \"expander\"\n",
       "                link.onclick = function () {\n",
       "                    if(rootDf.expandedFrames.has(frameId))\n",
       "                        rootDf.expandedFrames.delete(frameId)\n",
       "                    else rootDf.expandedFrames.add(frameId)\n",
       "                    renderTable(id)\n",
       "                }\n",
       "                link.appendChild(createExpander(expanded))\n",
       "                link.innerHTML += value.value\n",
       "                if(expanded) {\n",
       "                    td.appendChild(link)\n",
       "                    td.appendChild(document.createElement(\"p\"))\n",
       "                    const childTable = document.createElement(\"table\")\n",
       "                    childTable.className = \"dataframe\"\n",
       "                    childTable.id = \"df_\" + frameId\n",
       "                    childTable.df = rootDf.childFrames[frameId]\n",
       "                    td.appendChild(childTable)\n",
       "                    renderTable(frameId)\n",
       "                } else {\n",
       "                    td.appendChild(link)\n",
       "                }\n",
       "            }else if(value.style !== undefined) {\n",
       "                td.innerHTML = value.value\n",
       "                td.setAttribute(\"style\", value.style)\n",
       "            }else td.innerHTML = value\n",
       "            nodeScriptReplace(td)\n",
       "        }\n",
       "    }\n",
       "}\n",
       "\n",
       "function nodeScriptReplace(node) {\n",
       "    if ( nodeScriptIs(node) === true ) {\n",
       "        node.parentNode.replaceChild( nodeScriptClone(node) , node );\n",
       "    }\n",
       "    else {\n",
       "        var i = -1, children = node.childNodes;\n",
       "        while ( ++i < children.length ) {\n",
       "            nodeScriptReplace( children[i] );\n",
       "        }\n",
       "    }\n",
       "\n",
       "    return node;\n",
       "}\n",
       "function nodeScriptClone(node){\n",
       "    var script  = document.createElement(\"script\");\n",
       "    script.text = node.innerHTML;\n",
       "\n",
       "    var i = -1, attrs = node.attributes, attr;\n",
       "    while ( ++i < attrs.length ) {\n",
       "        script.setAttribute( (attr = attrs[i]).name, attr.value );\n",
       "    }\n",
       "    return script;\n",
       "}\n",
       "\n",
       "function nodeScriptIs(node) {\n",
       "    return node.tagName === 'SCRIPT';\n",
       "}\n",
       "\n",
       "        </script>\n",
       "        </html>"
      ]
     },
     "metadata": {},
     "output_type": "display_data"
    }
   ],
   "source": [
    "%useLatestDescriptors\n",
    "%use dataframe, kotlin-dl"
   ]
  },
  {
   "cell_type": "markdown",
   "metadata": {},
   "source": [
    "Read the dataframe from CSV and print the first few lines of it"
   ]
  },
  {
   "cell_type": "code",
   "execution_count": 2,
   "metadata": {},
   "outputs": [
    {
     "data": {
      "text/html": [
       "        <html>\n",
       "        <head>\n",
       "            <style type=\"text/css\">\n",
       "                \n",
       "\n",
       "            </style>\n",
       "        </head>\n",
       "        <body>\n",
       "            <table class=\"dataframe\" id=\"df_1593835520\"/>\n",
       "\n",
       "<p>DataFrame [5 x 12]</p>\n",
       "        </body>\n",
       "        <script>\n",
       "            /*<!--*/\n",
       "addTable({ cols: [{ name: \"fixed acidity\", children: [], rightAlign: true, values: [\"<span class=\\\"formatted\\\" title=\\\"\\\"><span class=\\\"numbers\\\">7.400000</span></span>\",\"<span class=\\\"formatted\\\" title=\\\"\\\"><span class=\\\"numbers\\\">7.800000</span></span>\",\"<span class=\\\"formatted\\\" title=\\\"\\\"><span class=\\\"numbers\\\">7.800000</span></span>\",\"<span class=\\\"formatted\\\" title=\\\"\\\"><span class=\\\"numbers\\\">11.200000</span></span>\",\"<span class=\\\"formatted\\\" title=\\\"\\\"><span class=\\\"numbers\\\">7.400000</span></span>\"] }, \n",
       "{ name: \"volatile acidity\", children: [], rightAlign: true, values: [\"<span class=\\\"formatted\\\" title=\\\"\\\"><span class=\\\"numbers\\\">0.700000</span></span>\",\"<span class=\\\"formatted\\\" title=\\\"\\\"><span class=\\\"numbers\\\">0.880000</span></span>\",\"<span class=\\\"formatted\\\" title=\\\"\\\"><span class=\\\"numbers\\\">0.760000</span></span>\",\"<span class=\\\"formatted\\\" title=\\\"\\\"><span class=\\\"numbers\\\">0.280000</span></span>\",\"<span class=\\\"formatted\\\" title=\\\"\\\"><span class=\\\"numbers\\\">0.700000</span></span>\"] }, \n",
       "{ name: \"citric acid\", children: [], rightAlign: true, values: [\"<span class=\\\"formatted\\\" title=\\\"\\\"><span class=\\\"numbers\\\">0.000000</span></span>\",\"<span class=\\\"formatted\\\" title=\\\"\\\"><span class=\\\"numbers\\\">0.000000</span></span>\",\"<span class=\\\"formatted\\\" title=\\\"\\\"><span class=\\\"numbers\\\">0.040000</span></span>\",\"<span class=\\\"formatted\\\" title=\\\"\\\"><span class=\\\"numbers\\\">0.560000</span></span>\",\"<span class=\\\"formatted\\\" title=\\\"\\\"><span class=\\\"numbers\\\">0.000000</span></span>\"] }, \n",
       "{ name: \"residual sugar\", children: [], rightAlign: true, values: [\"<span class=\\\"formatted\\\" title=\\\"\\\"><span class=\\\"numbers\\\">1.900000</span></span>\",\"<span class=\\\"formatted\\\" title=\\\"\\\"><span class=\\\"numbers\\\">2.600000</span></span>\",\"<span class=\\\"formatted\\\" title=\\\"\\\"><span class=\\\"numbers\\\">2.300000</span></span>\",\"<span class=\\\"formatted\\\" title=\\\"\\\"><span class=\\\"numbers\\\">1.900000</span></span>\",\"<span class=\\\"formatted\\\" title=\\\"\\\"><span class=\\\"numbers\\\">1.900000</span></span>\"] }, \n",
       "{ name: \"chlorides\", children: [], rightAlign: true, values: [\"<span class=\\\"formatted\\\" title=\\\"\\\"><span class=\\\"numbers\\\">0.076000</span></span>\",\"<span class=\\\"formatted\\\" title=\\\"\\\"><span class=\\\"numbers\\\">0.098000</span></span>\",\"<span class=\\\"formatted\\\" title=\\\"\\\"><span class=\\\"numbers\\\">0.092000</span></span>\",\"<span class=\\\"formatted\\\" title=\\\"\\\"><span class=\\\"numbers\\\">0.075000</span></span>\",\"<span class=\\\"formatted\\\" title=\\\"\\\"><span class=\\\"numbers\\\">0.076000</span></span>\"] }, \n",
       "{ name: \"free sulfur dioxide\", children: [], rightAlign: true, values: [\"<span class=\\\"formatted\\\" title=\\\"\\\"><span class=\\\"numbers\\\">11.000000</span></span>\",\"<span class=\\\"formatted\\\" title=\\\"\\\"><span class=\\\"numbers\\\">25.000000</span></span>\",\"<span class=\\\"formatted\\\" title=\\\"\\\"><span class=\\\"numbers\\\">15.000000</span></span>\",\"<span class=\\\"formatted\\\" title=\\\"\\\"><span class=\\\"numbers\\\">17.000000</span></span>\",\"<span class=\\\"formatted\\\" title=\\\"\\\"><span class=\\\"numbers\\\">11.000000</span></span>\"] }, \n",
       "{ name: \"total sulfur dioxide\", children: [], rightAlign: true, values: [\"<span class=\\\"formatted\\\" title=\\\"\\\"><span class=\\\"numbers\\\">34.000000</span></span>\",\"<span class=\\\"formatted\\\" title=\\\"\\\"><span class=\\\"numbers\\\">67.000000</span></span>\",\"<span class=\\\"formatted\\\" title=\\\"\\\"><span class=\\\"numbers\\\">54.000000</span></span>\",\"<span class=\\\"formatted\\\" title=\\\"\\\"><span class=\\\"numbers\\\">60.000000</span></span>\",\"<span class=\\\"formatted\\\" title=\\\"\\\"><span class=\\\"numbers\\\">34.000000</span></span>\"] }, \n",
       "{ name: \"density\", children: [], rightAlign: true, values: [\"<span class=\\\"formatted\\\" title=\\\"\\\"><span class=\\\"numbers\\\">0.997800</span></span>\",\"<span class=\\\"formatted\\\" title=\\\"\\\"><span class=\\\"numbers\\\">0.996800</span></span>\",\"<span class=\\\"formatted\\\" title=\\\"\\\"><span class=\\\"numbers\\\">0.997000</span></span>\",\"<span class=\\\"formatted\\\" title=\\\"\\\"><span class=\\\"numbers\\\">0.998000</span></span>\",\"<span class=\\\"formatted\\\" title=\\\"\\\"><span class=\\\"numbers\\\">0.997800</span></span>\"] }, \n",
       "{ name: \"pH\", children: [], rightAlign: true, values: [\"<span class=\\\"formatted\\\" title=\\\"\\\"><span class=\\\"numbers\\\">3.510000</span></span>\",\"<span class=\\\"formatted\\\" title=\\\"\\\"><span class=\\\"numbers\\\">3.200000</span></span>\",\"<span class=\\\"formatted\\\" title=\\\"\\\"><span class=\\\"numbers\\\">3.260000</span></span>\",\"<span class=\\\"formatted\\\" title=\\\"\\\"><span class=\\\"numbers\\\">3.160000</span></span>\",\"<span class=\\\"formatted\\\" title=\\\"\\\"><span class=\\\"numbers\\\">3.510000</span></span>\"] }, \n",
       "{ name: \"sulphates\", children: [], rightAlign: true, values: [\"<span class=\\\"formatted\\\" title=\\\"\\\"><span class=\\\"numbers\\\">0.560000</span></span>\",\"<span class=\\\"formatted\\\" title=\\\"\\\"><span class=\\\"numbers\\\">0.680000</span></span>\",\"<span class=\\\"formatted\\\" title=\\\"\\\"><span class=\\\"numbers\\\">0.650000</span></span>\",\"<span class=\\\"formatted\\\" title=\\\"\\\"><span class=\\\"numbers\\\">0.580000</span></span>\",\"<span class=\\\"formatted\\\" title=\\\"\\\"><span class=\\\"numbers\\\">0.560000</span></span>\"] }, \n",
       "{ name: \"alcohol\", children: [], rightAlign: true, values: [\"<span class=\\\"formatted\\\" title=\\\"\\\"><span class=\\\"numbers\\\">9.400000</span></span>\",\"<span class=\\\"formatted\\\" title=\\\"\\\"><span class=\\\"numbers\\\">9.800000</span></span>\",\"<span class=\\\"formatted\\\" title=\\\"\\\"><span class=\\\"numbers\\\">9.800000</span></span>\",\"<span class=\\\"formatted\\\" title=\\\"\\\"><span class=\\\"numbers\\\">9.800000</span></span>\",\"<span class=\\\"formatted\\\" title=\\\"\\\"><span class=\\\"numbers\\\">9.400000</span></span>\"] }, \n",
       "{ name: \"quality\", children: [], rightAlign: true, values: [\"<span class=\\\"formatted\\\" title=\\\"\\\"><span class=\\\"numbers\\\">5</span></span>\",\"<span class=\\\"formatted\\\" title=\\\"\\\"><span class=\\\"numbers\\\">5</span></span>\",\"<span class=\\\"formatted\\\" title=\\\"\\\"><span class=\\\"numbers\\\">5</span></span>\",\"<span class=\\\"formatted\\\" title=\\\"\\\"><span class=\\\"numbers\\\">6</span></span>\",\"<span class=\\\"formatted\\\" title=\\\"\\\"><span class=\\\"numbers\\\">5</span></span>\"] }, \n",
       "], id: 1593835520, rootId: 1593835520 } )\n",
       "/*-->*/\n",
       "\n",
       "renderTable(1593835520)\n",
       "\n",
       "        </script>\n",
       "        </html>"
      ]
     },
     "execution_count": 2,
     "metadata": {},
     "output_type": "execute_result"
    }
   ],
   "source": [
    "val raw_df = DataFrame.readCSV(fileOrUrl = \"winequality-red.csv\", delimiter = ';')\n",
    "raw_df.head()"
   ]
  },
  {
   "cell_type": "code",
   "execution_count": 3,
   "metadata": {},
   "outputs": [
    {
     "data": {
      "text/html": [
       "        <html>\n",
       "        <head>\n",
       "            <style type=\"text/css\">\n",
       "                \n",
       "\n",
       "            </style>\n",
       "        </head>\n",
       "        <body>\n",
       "            <table class=\"dataframe\" id=\"df_1593835521\"/>\n",
       "\n",
       "<p>DataFrame [12 x 13]</p>\n",
       "        </body>\n",
       "        <script>\n",
       "            /*<!--*/\n",
       "addTable({ cols: [{ name: \"column\", children: [], rightAlign: false, values: [\"fixed acidity\",\"volatile acidity\",\"citric acid\",\"residual sugar\",\"chlorides\",\"free sulfur dioxide\",\"total sulfur dioxide\",\"density\",\"pH\",\"sulphates\",\"alcohol\",\"quality\"] }, \n",
       "{ name: \"fixed acidity\", children: [], rightAlign: true, values: [{ style: \"background-color:#00ff00\", value: \"<span class=\\\"formatted\\\" title=\\\"\\\"><span class=\\\"numbers\\\">1.000000</span></span>\"},{ style: \"background-color:#a05e00\", value: \"<span class=\\\"formatted\\\" title=\\\"\\\"><span class=\\\"numbers\\\">-0.256131</span></span>\"},{ style: \"background-color:#29d500\", value: \"<span class=\\\"formatted\\\" title=\\\"\\\"><span class=\\\"numbers\\\">0.671703</span></span>\"},{ style: \"background-color:#708e00\", value: \"<span class=\\\"formatted\\\" title=\\\"\\\"><span class=\\\"numbers\\\">0.114777</span></span>\"},{ style: \"background-color:#738b00\", value: \"<span class=\\\"formatted\\\" title=\\\"\\\"><span class=\\\"numbers\\\">0.093705</span></span>\"},{ style: \"background-color:#936b00\", value: \"<span class=\\\"formatted\\\" title=\\\"\\\"><span class=\\\"numbers\\\">-0.153794</span></span>\"},{ style: \"background-color:#8d7100\", value: \"<span class=\\\"formatted\\\" title=\\\"\\\"><span class=\\\"numbers\\\">-0.113181</span></span>\"},{ style: \"background-color:#2ad400\", value: \"<span class=\\\"formatted\\\" title=\\\"\\\"><span class=\\\"numbers\\\">0.668047</span></span>\"},{ style: \"background-color:#d62800\", value: \"<span class=\\\"formatted\\\" title=\\\"\\\"><span class=\\\"numbers\\\">-0.682978</span></span>\"},{ style: \"background-color:#689600\", value: \"<span class=\\\"formatted\\\" title=\\\"\\\"><span class=\\\"numbers\\\">0.183006</span></span>\"},{ style: \"background-color:#877700\", value: \"<span class=\\\"formatted\\\" title=\\\"\\\"><span class=\\\"numbers\\\">-0.061668</span></span>\"},{ style: \"background-color:#6f8f00\", value: \"<span class=\\\"formatted\\\" title=\\\"\\\"><span class=\\\"numbers\\\">0.124052</span></span>\"}] }, \n",
       "{ name: \"volatile acidity\", children: [], rightAlign: true, values: [{ style: \"background-color:#a05e00\", value: \"<span class=\\\"formatted\\\" title=\\\"\\\"><span class=\\\"numbers\\\">-0.256131</span></span>\"},{ style: \"background-color:#00ff00\", value: \"<span class=\\\"formatted\\\" title=\\\"\\\"><span class=\\\"numbers\\\">1.000000</span></span>\"},{ style: \"background-color:#c53900\", value: \"<span class=\\\"formatted\\\" title=\\\"\\\"><span class=\\\"numbers\\\">-0.552496</span></span>\"},{ style: \"background-color:#7f7f00\", value: \"<span class=\\\"formatted\\\" title=\\\"\\\"><span class=\\\"numbers\\\">0.001918</span></span>\"},{ style: \"background-color:#778700\", value: \"<span class=\\\"formatted\\\" title=\\\"\\\"><span class=\\\"numbers\\\">0.061298</span></span>\"},{ style: \"background-color:#807e00\", value: \"<span class=\\\"formatted\\\" title=\\\"\\\"><span class=\\\"numbers\\\">-0.010504</span></span>\"},{ style: \"background-color:#758900\", value: \"<span class=\\\"formatted\\\" title=\\\"\\\"><span class=\\\"numbers\\\">0.076470</span></span>\"},{ style: \"background-color:#7c8200\", value: \"<span class=\\\"formatted\\\" title=\\\"\\\"><span class=\\\"numbers\\\">0.022026</span></span>\"},{ style: \"background-color:#619d00\", value: \"<span class=\\\"formatted\\\" title=\\\"\\\"><span class=\\\"numbers\\\">0.234937</span></span>\"},{ style: \"background-color:#a05e00\", value: \"<span class=\\\"formatted\\\" title=\\\"\\\"><span class=\\\"numbers\\\">-0.260987</span></span>\"},{ style: \"background-color:#996500\", value: \"<span class=\\\"formatted\\\" title=\\\"\\\"><span class=\\\"numbers\\\">-0.202288</span></span>\"},{ style: \"background-color:#b14d00\", value: \"<span class=\\\"formatted\\\" title=\\\"\\\"><span class=\\\"numbers\\\">-0.390558</span></span>\"}] }, \n",
       "{ name: \"citric acid\", children: [], rightAlign: true, values: [{ style: \"background-color:#29d500\", value: \"<span class=\\\"formatted\\\" title=\\\"\\\"><span class=\\\"numbers\\\">0.671703</span></span>\"},{ style: \"background-color:#c53900\", value: \"<span class=\\\"formatted\\\" title=\\\"\\\"><span class=\\\"numbers\\\">-0.552496</span></span>\"},{ style: \"background-color:#00ff00\", value: \"<span class=\\\"formatted\\\" title=\\\"\\\"><span class=\\\"numbers\\\">1.000000</span></span>\"},{ style: \"background-color:#6d9100\", value: \"<span class=\\\"formatted\\\" title=\\\"\\\"><span class=\\\"numbers\\\">0.143577</span></span>\"},{ style: \"background-color:#659900\", value: \"<span class=\\\"formatted\\\" title=\\\"\\\"><span class=\\\"numbers\\\">0.203823</span></span>\"},{ style: \"background-color:#877700\", value: \"<span class=\\\"formatted\\\" title=\\\"\\\"><span class=\\\"numbers\\\">-0.060978</span></span>\"},{ style: \"background-color:#7a8400\", value: \"<span class=\\\"formatted\\\" title=\\\"\\\"><span class=\\\"numbers\\\">0.035533</span></span>\"},{ style: \"background-color:#50ae00\", value: \"<span class=\\\"formatted\\\" title=\\\"\\\"><span class=\\\"numbers\\\">0.364947</span></span>\"},{ style: \"background-color:#c43a00\", value: \"<span class=\\\"formatted\\\" title=\\\"\\\"><span class=\\\"numbers\\\">-0.541904</span></span>\"},{ style: \"background-color:#57a700\", value: \"<span class=\\\"formatted\\\" title=\\\"\\\"><span class=\\\"numbers\\\">0.312770</span></span>\"},{ style: \"background-color:#718d00\", value: \"<span class=\\\"formatted\\\" title=\\\"\\\"><span class=\\\"numbers\\\">0.109903</span></span>\"},{ style: \"background-color:#629c00\", value: \"<span class=\\\"formatted\\\" title=\\\"\\\"><span class=\\\"numbers\\\">0.226373</span></span>\"}] }, \n",
       "{ name: \"residual sugar\", children: [], rightAlign: true, values: [{ style: \"background-color:#708e00\", value: \"<span class=\\\"formatted\\\" title=\\\"\\\"><span class=\\\"numbers\\\">0.114777</span></span>\"},{ style: \"background-color:#7f7f00\", value: \"<span class=\\\"formatted\\\" title=\\\"\\\"><span class=\\\"numbers\\\">0.001918</span></span>\"},{ style: \"background-color:#6d9100\", value: \"<span class=\\\"formatted\\\" title=\\\"\\\"><span class=\\\"numbers\\\">0.143577</span></span>\"},{ style: \"background-color:#00ff00\", value: \"<span class=\\\"formatted\\\" title=\\\"\\\"><span class=\\\"numbers\\\">1.000000</span></span>\"},{ style: \"background-color:#788600\", value: \"<span class=\\\"formatted\\\" title=\\\"\\\"><span class=\\\"numbers\\\">0.055610</span></span>\"},{ style: \"background-color:#679700\", value: \"<span class=\\\"formatted\\\" title=\\\"\\\"><span class=\\\"numbers\\\">0.187049</span></span>\"},{ style: \"background-color:#659900\", value: \"<span class=\\\"formatted\\\" title=\\\"\\\"><span class=\\\"numbers\\\">0.203028</span></span>\"},{ style: \"background-color:#52ac00\", value: \"<span class=\\\"formatted\\\" title=\\\"\\\"><span class=\\\"numbers\\\">0.355283</span></span>\"},{ style: \"background-color:#8a7400\", value: \"<span class=\\\"formatted\\\" title=\\\"\\\"><span class=\\\"numbers\\\">-0.085652</span></span>\"},{ style: \"background-color:#7e8000\", value: \"<span class=\\\"formatted\\\" title=\\\"\\\"><span class=\\\"numbers\\\">0.005527</span></span>\"},{ style: \"background-color:#7a8400\", value: \"<span class=\\\"formatted\\\" title=\\\"\\\"><span class=\\\"numbers\\\">0.042075</span></span>\"},{ style: \"background-color:#7d8100\", value: \"<span class=\\\"formatted\\\" title=\\\"\\\"><span class=\\\"numbers\\\">0.013732</span></span>\"}] }, \n",
       "{ name: \"chlorides\", children: [], rightAlign: true, values: [{ style: \"background-color:#738b00\", value: \"<span class=\\\"formatted\\\" title=\\\"\\\"><span class=\\\"numbers\\\">0.093705</span></span>\"},{ style: \"background-color:#778700\", value: \"<span class=\\\"formatted\\\" title=\\\"\\\"><span class=\\\"numbers\\\">0.061298</span></span>\"},{ style: \"background-color:#659900\", value: \"<span class=\\\"formatted\\\" title=\\\"\\\"><span class=\\\"numbers\\\">0.203823</span></span>\"},{ style: \"background-color:#788600\", value: \"<span class=\\\"formatted\\\" title=\\\"\\\"><span class=\\\"numbers\\\">0.055610</span></span>\"},{ style: \"background-color:#00ff00\", value: \"<span class=\\\"formatted\\\" title=\\\"\\\"><span class=\\\"numbers\\\">1.000000</span></span>\"},{ style: \"background-color:#7e8000\", value: \"<span class=\\\"formatted\\\" title=\\\"\\\"><span class=\\\"numbers\\\">0.005562</span></span>\"},{ style: \"background-color:#798500\", value: \"<span class=\\\"formatted\\\" title=\\\"\\\"><span class=\\\"numbers\\\">0.047400</span></span>\"},{ style: \"background-color:#659900\", value: \"<span class=\\\"formatted\\\" title=\\\"\\\"><span class=\\\"numbers\\\">0.200632</span></span>\"},{ style: \"background-color:#a15d00\", value: \"<span class=\\\"formatted\\\" title=\\\"\\\"><span class=\\\"numbers\\\">-0.265026</span></span>\"},{ style: \"background-color:#50ae00\", value: \"<span class=\\\"formatted\\\" title=\\\"\\\"><span class=\\\"numbers\\\">0.371260</span></span>\"},{ style: \"background-color:#9b6300\", value: \"<span class=\\\"formatted\\\" title=\\\"\\\"><span class=\\\"numbers\\\">-0.221141</span></span>\"},{ style: \"background-color:#8f6f00\", value: \"<span class=\\\"formatted\\\" title=\\\"\\\"><span class=\\\"numbers\\\">-0.128907</span></span>\"}] }, \n",
       "{ name: \"free sulfur dioxide\", children: [], rightAlign: true, values: [{ style: \"background-color:#936b00\", value: \"<span class=\\\"formatted\\\" title=\\\"\\\"><span class=\\\"numbers\\\">-0.153794</span></span>\"},{ style: \"background-color:#807e00\", value: \"<span class=\\\"formatted\\\" title=\\\"\\\"><span class=\\\"numbers\\\">-0.010504</span></span>\"},{ style: \"background-color:#877700\", value: \"<span class=\\\"formatted\\\" title=\\\"\\\"><span class=\\\"numbers\\\">-0.060978</span></span>\"},{ style: \"background-color:#679700\", value: \"<span class=\\\"formatted\\\" title=\\\"\\\"><span class=\\\"numbers\\\">0.187049</span></span>\"},{ style: \"background-color:#7e8000\", value: \"<span class=\\\"formatted\\\" title=\\\"\\\"><span class=\\\"numbers\\\">0.005562</span></span>\"},{ style: \"background-color:#00ff00\", value: \"<span class=\\\"formatted\\\" title=\\\"\\\"><span class=\\\"numbers\\\">1.000000</span></span>\"},{ style: \"background-color:#2ad400\", value: \"<span class=\\\"formatted\\\" title=\\\"\\\"><span class=\\\"numbers\\\">0.667666</span></span>\"},{ style: \"background-color:#827c00\", value: \"<span class=\\\"formatted\\\" title=\\\"\\\"><span class=\\\"numbers\\\">-0.021946</span></span>\"},{ style: \"background-color:#768800\", value: \"<span class=\\\"formatted\\\" title=\\\"\\\"><span class=\\\"numbers\\\">0.070377</span></span>\"},{ style: \"background-color:#788600\", value: \"<span class=\\\"formatted\\\" title=\\\"\\\"><span class=\\\"numbers\\\">0.051658</span></span>\"},{ style: \"background-color:#887600\", value: \"<span class=\\\"formatted\\\" title=\\\"\\\"><span class=\\\"numbers\\\">-0.069408</span></span>\"},{ style: \"background-color:#857900\", value: \"<span class=\\\"formatted\\\" title=\\\"\\\"><span class=\\\"numbers\\\">-0.050656</span></span>\"}] }, \n",
       "{ name: \"total sulfur dioxide\", children: [], rightAlign: true, values: [{ style: \"background-color:#8d7100\", value: \"<span class=\\\"formatted\\\" title=\\\"\\\"><span class=\\\"numbers\\\">-0.113181</span></span>\"},{ style: \"background-color:#758900\", value: \"<span class=\\\"formatted\\\" title=\\\"\\\"><span class=\\\"numbers\\\">0.076470</span></span>\"},{ style: \"background-color:#7a8400\", value: \"<span class=\\\"formatted\\\" title=\\\"\\\"><span class=\\\"numbers\\\">0.035533</span></span>\"},{ style: \"background-color:#659900\", value: \"<span class=\\\"formatted\\\" title=\\\"\\\"><span class=\\\"numbers\\\">0.203028</span></span>\"},{ style: \"background-color:#798500\", value: \"<span class=\\\"formatted\\\" title=\\\"\\\"><span class=\\\"numbers\\\">0.047400</span></span>\"},{ style: \"background-color:#2ad400\", value: \"<span class=\\\"formatted\\\" title=\\\"\\\"><span class=\\\"numbers\\\">0.667666</span></span>\"},{ style: \"background-color:#00ff00\", value: \"<span class=\\\"formatted\\\" title=\\\"\\\"><span class=\\\"numbers\\\">1.000000</span></span>\"},{ style: \"background-color:#768800\", value: \"<span class=\\\"formatted\\\" title=\\\"\\\"><span class=\\\"numbers\\\">0.071269</span></span>\"},{ style: \"background-color:#877700\", value: \"<span class=\\\"formatted\\\" title=\\\"\\\"><span class=\\\"numbers\\\">-0.066495</span></span>\"},{ style: \"background-color:#7a8400\", value: \"<span class=\\\"formatted\\\" title=\\\"\\\"><span class=\\\"numbers\\\">0.042947</span></span>\"},{ style: \"background-color:#996500\", value: \"<span class=\\\"formatted\\\" title=\\\"\\\"><span class=\\\"numbers\\\">-0.205654</span></span>\"},{ style: \"background-color:#976700\", value: \"<span class=\\\"formatted\\\" title=\\\"\\\"><span class=\\\"numbers\\\">-0.185100</span></span>\"}] }, \n",
       "{ name: \"density\", children: [], rightAlign: true, values: [{ style: \"background-color:#2ad400\", value: \"<span class=\\\"formatted\\\" title=\\\"\\\"><span class=\\\"numbers\\\">0.668047</span></span>\"},{ style: \"background-color:#7c8200\", value: \"<span class=\\\"formatted\\\" title=\\\"\\\"><span class=\\\"numbers\\\">0.022026</span></span>\"},{ style: \"background-color:#50ae00\", value: \"<span class=\\\"formatted\\\" title=\\\"\\\"><span class=\\\"numbers\\\">0.364947</span></span>\"},{ style: \"background-color:#52ac00\", value: \"<span class=\\\"formatted\\\" title=\\\"\\\"><span class=\\\"numbers\\\">0.355283</span></span>\"},{ style: \"background-color:#659900\", value: \"<span class=\\\"formatted\\\" title=\\\"\\\"><span class=\\\"numbers\\\">0.200632</span></span>\"},{ style: \"background-color:#827c00\", value: \"<span class=\\\"formatted\\\" title=\\\"\\\"><span class=\\\"numbers\\\">-0.021946</span></span>\"},{ style: \"background-color:#768800\", value: \"<span class=\\\"formatted\\\" title=\\\"\\\"><span class=\\\"numbers\\\">0.071269</span></span>\"},{ style: \"background-color:#00ff00\", value: \"<span class=\\\"formatted\\\" title=\\\"\\\"><span class=\\\"numbers\\\">1.000000</span></span>\"},{ style: \"background-color:#ab5300\", value: \"<span class=\\\"formatted\\\" title=\\\"\\\"><span class=\\\"numbers\\\">-0.341699</span></span>\"},{ style: \"background-color:#6c9200\", value: \"<span class=\\\"formatted\\\" title=\\\"\\\"><span class=\\\"numbers\\\">0.148506</span></span>\"},{ style: \"background-color:#be4000\", value: \"<span class=\\\"formatted\\\" title=\\\"\\\"><span class=\\\"numbers\\\">-0.496180</span></span>\"},{ style: \"background-color:#956900\", value: \"<span class=\\\"formatted\\\" title=\\\"\\\"><span class=\\\"numbers\\\">-0.174919</span></span>\"}] }, \n",
       "{ name: \"pH\", children: [], rightAlign: true, values: [{ style: \"background-color:#d62800\", value: \"<span class=\\\"formatted\\\" title=\\\"\\\"><span class=\\\"numbers\\\">-0.682978</span></span>\"},{ style: \"background-color:#619d00\", value: \"<span class=\\\"formatted\\\" title=\\\"\\\"><span class=\\\"numbers\\\">0.234937</span></span>\"},{ style: \"background-color:#c43a00\", value: \"<span class=\\\"formatted\\\" title=\\\"\\\"><span class=\\\"numbers\\\">-0.541904</span></span>\"},{ style: \"background-color:#8a7400\", value: \"<span class=\\\"formatted\\\" title=\\\"\\\"><span class=\\\"numbers\\\">-0.085652</span></span>\"},{ style: \"background-color:#a15d00\", value: \"<span class=\\\"formatted\\\" title=\\\"\\\"><span class=\\\"numbers\\\">-0.265026</span></span>\"},{ style: \"background-color:#768800\", value: \"<span class=\\\"formatted\\\" title=\\\"\\\"><span class=\\\"numbers\\\">0.070377</span></span>\"},{ style: \"background-color:#877700\", value: \"<span class=\\\"formatted\\\" title=\\\"\\\"><span class=\\\"numbers\\\">-0.066495</span></span>\"},{ style: \"background-color:#ab5300\", value: \"<span class=\\\"formatted\\\" title=\\\"\\\"><span class=\\\"numbers\\\">-0.341699</span></span>\"},{ style: \"background-color:#00ff00\", value: \"<span class=\\\"formatted\\\" title=\\\"\\\"><span class=\\\"numbers\\\">1.000000</span></span>\"},{ style: \"background-color:#986600\", value: \"<span class=\\\"formatted\\\" title=\\\"\\\"><span class=\\\"numbers\\\">-0.196648</span></span>\"},{ style: \"background-color:#659900\", value: \"<span class=\\\"formatted\\\" title=\\\"\\\"><span class=\\\"numbers\\\">0.205633</span></span>\"},{ style: \"background-color:#867800\", value: \"<span class=\\\"formatted\\\" title=\\\"\\\"><span class=\\\"numbers\\\">-0.057731</span></span>\"}] }, \n",
       "{ name: \"sulphates\", children: [], rightAlign: true, values: [{ style: \"background-color:#689600\", value: \"<span class=\\\"formatted\\\" title=\\\"\\\"><span class=\\\"numbers\\\">0.183006</span></span>\"},{ style: \"background-color:#a05e00\", value: \"<span class=\\\"formatted\\\" title=\\\"\\\"><span class=\\\"numbers\\\">-0.260987</span></span>\"},{ style: \"background-color:#57a700\", value: \"<span class=\\\"formatted\\\" title=\\\"\\\"><span class=\\\"numbers\\\">0.312770</span></span>\"},{ style: \"background-color:#7e8000\", value: \"<span class=\\\"formatted\\\" title=\\\"\\\"><span class=\\\"numbers\\\">0.005527</span></span>\"},{ style: \"background-color:#50ae00\", value: \"<span class=\\\"formatted\\\" title=\\\"\\\"><span class=\\\"numbers\\\">0.371260</span></span>\"},{ style: \"background-color:#788600\", value: \"<span class=\\\"formatted\\\" title=\\\"\\\"><span class=\\\"numbers\\\">0.051658</span></span>\"},{ style: \"background-color:#7a8400\", value: \"<span class=\\\"formatted\\\" title=\\\"\\\"><span class=\\\"numbers\\\">0.042947</span></span>\"},{ style: \"background-color:#6c9200\", value: \"<span class=\\\"formatted\\\" title=\\\"\\\"><span class=\\\"numbers\\\">0.148506</span></span>\"},{ style: \"background-color:#986600\", value: \"<span class=\\\"formatted\\\" title=\\\"\\\"><span class=\\\"numbers\\\">-0.196648</span></span>\"},{ style: \"background-color:#00ff00\", value: \"<span class=\\\"formatted\\\" title=\\\"\\\"><span class=\\\"numbers\\\">1.000000</span></span>\"},{ style: \"background-color:#738b00\", value: \"<span class=\\\"formatted\\\" title=\\\"\\\"><span class=\\\"numbers\\\">0.093595</span></span>\"},{ style: \"background-color:#5f9f00\", value: \"<span class=\\\"formatted\\\" title=\\\"\\\"><span class=\\\"numbers\\\">0.251397</span></span>\"}] }, \n",
       "{ name: \"alcohol\", children: [], rightAlign: true, values: [{ style: \"background-color:#877700\", value: \"<span class=\\\"formatted\\\" title=\\\"\\\"><span class=\\\"numbers\\\">-0.061668</span></span>\"},{ style: \"background-color:#996500\", value: \"<span class=\\\"formatted\\\" title=\\\"\\\"><span class=\\\"numbers\\\">-0.202288</span></span>\"},{ style: \"background-color:#718d00\", value: \"<span class=\\\"formatted\\\" title=\\\"\\\"><span class=\\\"numbers\\\">0.109903</span></span>\"},{ style: \"background-color:#7a8400\", value: \"<span class=\\\"formatted\\\" title=\\\"\\\"><span class=\\\"numbers\\\">0.042075</span></span>\"},{ style: \"background-color:#9b6300\", value: \"<span class=\\\"formatted\\\" title=\\\"\\\"><span class=\\\"numbers\\\">-0.221141</span></span>\"},{ style: \"background-color:#887600\", value: \"<span class=\\\"formatted\\\" title=\\\"\\\"><span class=\\\"numbers\\\">-0.069408</span></span>\"},{ style: \"background-color:#996500\", value: \"<span class=\\\"formatted\\\" title=\\\"\\\"><span class=\\\"numbers\\\">-0.205654</span></span>\"},{ style: \"background-color:#be4000\", value: \"<span class=\\\"formatted\\\" title=\\\"\\\"><span class=\\\"numbers\\\">-0.496180</span></span>\"},{ style: \"background-color:#659900\", value: \"<span class=\\\"formatted\\\" title=\\\"\\\"><span class=\\\"numbers\\\">0.205633</span></span>\"},{ style: \"background-color:#738b00\", value: \"<span class=\\\"formatted\\\" title=\\\"\\\"><span class=\\\"numbers\\\">0.093595</span></span>\"},{ style: \"background-color:#00ff00\", value: \"<span class=\\\"formatted\\\" title=\\\"\\\"><span class=\\\"numbers\\\">1.000000</span></span>\"},{ style: \"background-color:#42bc00\", value: \"<span class=\\\"formatted\\\" title=\\\"\\\"><span class=\\\"numbers\\\">0.476166</span></span>\"}] }, \n",
       "{ name: \"quality\", children: [], rightAlign: true, values: [{ style: \"background-color:#6f8f00\", value: \"<span class=\\\"formatted\\\" title=\\\"\\\"><span class=\\\"numbers\\\">0.124052</span></span>\"},{ style: \"background-color:#b14d00\", value: \"<span class=\\\"formatted\\\" title=\\\"\\\"><span class=\\\"numbers\\\">-0.390558</span></span>\"},{ style: \"background-color:#629c00\", value: \"<span class=\\\"formatted\\\" title=\\\"\\\"><span class=\\\"numbers\\\">0.226373</span></span>\"},{ style: \"background-color:#7d8100\", value: \"<span class=\\\"formatted\\\" title=\\\"\\\"><span class=\\\"numbers\\\">0.013732</span></span>\"},{ style: \"background-color:#8f6f00\", value: \"<span class=\\\"formatted\\\" title=\\\"\\\"><span class=\\\"numbers\\\">-0.128907</span></span>\"},{ style: \"background-color:#857900\", value: \"<span class=\\\"formatted\\\" title=\\\"\\\"><span class=\\\"numbers\\\">-0.050656</span></span>\"},{ style: \"background-color:#976700\", value: \"<span class=\\\"formatted\\\" title=\\\"\\\"><span class=\\\"numbers\\\">-0.185100</span></span>\"},{ style: \"background-color:#956900\", value: \"<span class=\\\"formatted\\\" title=\\\"\\\"><span class=\\\"numbers\\\">-0.174919</span></span>\"},{ style: \"background-color:#867800\", value: \"<span class=\\\"formatted\\\" title=\\\"\\\"><span class=\\\"numbers\\\">-0.057731</span></span>\"},{ style: \"background-color:#5f9f00\", value: \"<span class=\\\"formatted\\\" title=\\\"\\\"><span class=\\\"numbers\\\">0.251397</span></span>\"},{ style: \"background-color:#42bc00\", value: \"<span class=\\\"formatted\\\" title=\\\"\\\"><span class=\\\"numbers\\\">0.476166</span></span>\"},{ style: \"background-color:#00fe00\", value: \"<span class=\\\"formatted\\\" title=\\\"\\\"><span class=\\\"numbers\\\">1.000000</span></span>\"}] }, \n",
       "], id: 1593835521, rootId: 1593835521 } )\n",
       "/*-->*/\n",
       "\n",
       "renderTable(1593835521)\n",
       "\n",
       "        </script>\n",
       "        </html>"
      ]
     },
     "execution_count": 3,
     "metadata": {},
     "output_type": "execute_result"
    }
   ],
   "source": [
    "raw_df.corr().format { numberCols() }.with { linearBg(it!!, -1.0 to red, 1.0 to green) }"
   ]
  },
  {
   "cell_type": "markdown",
   "metadata": {},
   "source": [
    "Based on the correlation, we can remove some columns, they seem to be insignificant"
   ]
  },
  {
   "cell_type": "code",
   "execution_count": 4,
   "metadata": {},
   "outputs": [],
   "source": [
    "val df = raw_df.remove {`free sulfur dioxide` and `residual sugar` and pH }"
   ]
  },
  {
   "cell_type": "markdown",
   "metadata": {},
   "source": [
    "## Predict wine quality: first approach"
   ]
  },
  {
   "cell_type": "code",
   "execution_count": 5,
   "metadata": {},
   "outputs": [],
   "source": [
    "// Simple converter function between DataFrame and KotlinDL data representations\n",
    "fun <T> DataFrame<T>.toOnHeapDataset(labelColumnName: String): OnHeapDataset {\n",
    "    return OnHeapDataset.create(\n",
    "        dataframe = this,\n",
    "        yColumn = labelColumnName\n",
    "    )\n",
    "}\n",
    "\n",
    "fun OnHeapDataset.Companion.create(\n",
    "    dataframe: DataFrame<Any?>,\n",
    "    yColumn: String\n",
    "): OnHeapDataset {\n",
    "    fun extractX(): Array<FloatArray> =\n",
    "        dataframe.remove(yColumn).rows()\n",
    "            .map { (it.values() as List<Float>).toFloatArray() }.toTypedArray()\n",
    "\n",
    "    fun extractY(): FloatArray =\n",
    "        dataframe.get { yColumn<Float>() }.toList().toFloatArray()\n",
    "\n",
    "    return create(\n",
    "        ::extractX,\n",
    "        ::extractY\n",
    "    )\n",
    "}"
   ]
  },
  {
   "cell_type": "code",
   "execution_count": 6,
   "metadata": {},
   "outputs": [],
   "source": [
    "val (train, test) = df.convert { doubleCols() }.toFloat()\n",
    "        .toOnHeapDataset(labelColumnName = \"quality\")\n",
    "        .split(0.8)"
   ]
  },
  {
   "cell_type": "markdown",
   "metadata": {},
   "source": [
    "Define simple neural network with only 2 dense layers"
   ]
  },
  {
   "cell_type": "code",
   "execution_count": 7,
   "metadata": {},
   "outputs": [],
   "source": [
    "val inputNeurons = train.x[0].size.toLong()\n",
    "\n",
    "val model = Sequential.of(\n",
    "    Input(\n",
    "        inputNeurons\n",
    "    ),\n",
    "    Dense(\n",
    "        outputSize = (inputNeurons * 10).toInt(),\n",
    "        activation = Activations.Tanh,\n",
    "        kernelInitializer = HeNormal(),\n",
    "        biasInitializer = HeNormal()\n",
    "    ),\n",
    "    Dense(\n",
    "        outputSize = (inputNeurons * 10).toInt(),\n",
    "        activation = Activations.Tanh,\n",
    "        kernelInitializer = HeNormal(),\n",
    "        biasInitializer = HeNormal()\n",
    "    ),\n",
    "    Dense(\n",
    "        outputSize = 1,\n",
    "        activation = Activations.Linear,\n",
    "        kernelInitializer = HeNormal(),\n",
    "        biasInitializer = HeNormal()\n",
    "    )\n",
    ")"
   ]
  },
  {
   "cell_type": "code",
   "execution_count": 8,
   "metadata": {},
   "outputs": [],
   "source": [
    "model.compile(optimizer = Adam(), loss = Losses.MSE, metric = Metrics.MAE)"
   ]
  },
  {
   "cell_type": "code",
   "execution_count": 9,
   "metadata": {},
   "outputs": [
    {
     "name": "stdout",
     "output_type": "stream",
     "text": [
      "==============================================================================\n",
      "Model type: Sequential\n",
      "______________________________________________________________________________\n",
      "Layer (type)                           Output Shape              Param #      \n",
      "==============================================================================\n",
      "input_1(Input)                         [None, 8]                 0            \n",
      "______________________________________________________________________________\n",
      "dense_2(Dense)                         [None, 80]                720          \n",
      "______________________________________________________________________________\n",
      "dense_3(Dense)                         [None, 80]                6480         \n",
      "______________________________________________________________________________\n",
      "dense_4(Dense)                         [None, 1]                 81           \n",
      "______________________________________________________________________________\n",
      "==============================================================================\n",
      "Total trainable params: 7281\n",
      "Total frozen params: 0\n",
      "Total params: 7281\n",
      "==============================================================================\n"
     ]
    }
   ],
   "source": [
    "model.printSummary()"
   ]
  },
  {
   "cell_type": "markdown",
   "metadata": {},
   "source": [
    "Train it!"
   ]
  },
  {
   "cell_type": "code",
   "execution_count": 10,
   "metadata": {},
   "outputs": [],
   "source": [
    "val trainHist = model.fit(train, batchSize = 500, epochs=2000)"
   ]
  },
  {
   "cell_type": "code",
   "execution_count": 11,
   "metadata": {},
   "outputs": [
    {
     "data": {
      "text/html": [
       "        <html>\n",
       "        <head>\n",
       "            <style type=\"text/css\">\n",
       "                \n",
       "\n",
       "            </style>\n",
       "        </head>\n",
       "        <body>\n",
       "            <table class=\"dataframe\" id=\"df_1593835522\"/>\n",
       "\n",
       "<p>DataFrame [5 x 5]</p>\n",
       "        </body>\n",
       "        <script>\n",
       "            /*<!--*/\n",
       "addTable({ cols: [{ name: \"epochIndex\", children: [], rightAlign: true, values: [\"<span class=\\\"formatted\\\" title=\\\"\\\"><span class=\\\"numbers\\\">1996</span></span>\",\"<span class=\\\"formatted\\\" title=\\\"\\\"><span class=\\\"numbers\\\">1997</span></span>\",\"<span class=\\\"formatted\\\" title=\\\"\\\"><span class=\\\"numbers\\\">1998</span></span>\",\"<span class=\\\"formatted\\\" title=\\\"\\\"><span class=\\\"numbers\\\">1999</span></span>\",\"<span class=\\\"formatted\\\" title=\\\"\\\"><span class=\\\"numbers\\\">2000</span></span>\"] }, \n",
       "{ name: \"lossValue\", children: [], rightAlign: true, values: [\"<span class=\\\"formatted\\\" title=\\\"\\\"><span class=\\\"numbers\\\">0.334361</span></span>\",\"<span class=\\\"formatted\\\" title=\\\"\\\"><span class=\\\"numbers\\\">0.334324</span></span>\",\"<span class=\\\"formatted\\\" title=\\\"\\\"><span class=\\\"numbers\\\">0.334287</span></span>\",\"<span class=\\\"formatted\\\" title=\\\"\\\"><span class=\\\"numbers\\\">0.334250</span></span>\",\"<span class=\\\"formatted\\\" title=\\\"\\\"><span class=\\\"numbers\\\">0.334213</span></span>\"] }, \n",
       "{ name: \"metricValue\", children: [], rightAlign: true, values: [\"<span class=\\\"formatted\\\" title=\\\"\\\"><span class=\\\"numbers\\\">0.450703</span></span>\",\"<span class=\\\"formatted\\\" title=\\\"\\\"><span class=\\\"numbers\\\">0.450671</span></span>\",\"<span class=\\\"formatted\\\" title=\\\"\\\"><span class=\\\"numbers\\\">0.450639</span></span>\",\"<span class=\\\"formatted\\\" title=\\\"\\\"><span class=\\\"numbers\\\">0.450607</span></span>\",\"<span class=\\\"formatted\\\" title=\\\"\\\"><span class=\\\"numbers\\\">0.450575</span></span>\"] }, \n",
       "{ name: \"valLossValue\", children: [], rightAlign: true, values: [\"<span class=\\\"formatted\\\" title=\\\"\\\"><span class=\\\"numbers\\\">NaN</span></span>\",\"<span class=\\\"formatted\\\" title=\\\"\\\"><span class=\\\"numbers\\\">NaN</span></span>\",\"<span class=\\\"formatted\\\" title=\\\"\\\"><span class=\\\"numbers\\\">NaN</span></span>\",\"<span class=\\\"formatted\\\" title=\\\"\\\"><span class=\\\"numbers\\\">NaN</span></span>\",\"<span class=\\\"formatted\\\" title=\\\"\\\"><span class=\\\"numbers\\\">NaN</span></span>\"] }, \n",
       "{ name: \"valMetricValue\", children: [], rightAlign: true, values: [\"<span class=\\\"formatted\\\" title=\\\"\\\"><span class=\\\"numbers\\\">NaN</span></span>\",\"<span class=\\\"formatted\\\" title=\\\"\\\"><span class=\\\"numbers\\\">NaN</span></span>\",\"<span class=\\\"formatted\\\" title=\\\"\\\"><span class=\\\"numbers\\\">NaN</span></span>\",\"<span class=\\\"formatted\\\" title=\\\"\\\"><span class=\\\"numbers\\\">NaN</span></span>\",\"<span class=\\\"formatted\\\" title=\\\"\\\"><span class=\\\"numbers\\\">NaN</span></span>\"] }, \n",
       "], id: 1593835522, rootId: 1593835522 } )\n",
       "/*-->*/\n",
       "\n",
       "renderTable(1593835522)\n",
       "\n",
       "        </script>\n",
       "        </html>"
      ]
     },
     "execution_count": 11,
     "metadata": {},
     "output_type": "execute_result"
    }
   ],
   "source": [
    "trainHist.epochHistory.createDataFrame().tail()"
   ]
  },
  {
   "cell_type": "markdown",
   "metadata": {},
   "source": [
    "Let's check that our network predicts values more or less correctly:"
   ]
  },
  {
   "cell_type": "code",
   "execution_count": 12,
   "metadata": {},
   "outputs": [
    {
     "data": {
      "text/plain": [
       "5.2453814"
      ]
     },
     "execution_count": 12,
     "metadata": {},
     "output_type": "execute_result"
    }
   ],
   "source": [
    "model.predictSoftly(test.x[9])[0]"
   ]
  },
  {
   "cell_type": "code",
   "execution_count": 13,
   "metadata": {},
   "outputs": [
    {
     "data": {
      "text/plain": [
       "5.0"
      ]
     },
     "execution_count": 13,
     "metadata": {},
     "output_type": "execute_result"
    }
   ],
   "source": [
    "test.y[9]"
   ]
  },
  {
   "cell_type": "markdown",
   "metadata": {},
   "source": [
    "Close the model:"
   ]
  },
  {
   "cell_type": "code",
   "execution_count": 14,
   "metadata": {},
   "outputs": [],
   "source": [
    "model.close()"
   ]
  },
  {
   "cell_type": "markdown",
   "metadata": {},
   "source": [
    "## Predict wine quality: second approach"
   ]
  },
  {
   "cell_type": "code",
   "execution_count": 15,
   "metadata": {},
   "outputs": [],
   "source": [
    "fun <T> trainTestSplit(d: DataFrame<T>, col: String, trainPart: Double): Pair<Pair<DataFrame<T>, DataFrame<T>>, Pair<DataFrame<T>, DataFrame<T>>> {\n",
    "    val n = d.nrow()\n",
    "    val trainN = ceil(n * trainPart).toInt()\n",
    "\n",
    "    val shuffledInd = (0 until n).shuffled()\n",
    "    val trainInd = shuffledInd.subList(0, trainN)\n",
    "    val testInd = shuffledInd.subList(trainN, n)\n",
    "    \n",
    "    val train = d[trainInd]\n",
    "    val test = d[testInd]\n",
    "    \n",
    "    val trainX = train.select { all().except(cols(col)) }\n",
    "    val trainY = train.select(col)\n",
    "    \n",
    "    val testX = test.select { all().except(cols(col)) }\n",
    "    val testY = test.select(col)\n",
    "    \n",
    "    return (trainX to trainY) to (testX to testY)\n",
    "}"
   ]
  },
  {
   "cell_type": "markdown",
   "metadata": {},
   "source": [
    "Let's create and then train the model as we did before"
   ]
  },
  {
   "cell_type": "code",
   "execution_count": 16,
   "metadata": {},
   "outputs": [],
   "source": [
    "val (trainPair, testPair) = trainTestSplit(df, \"quality\", 0.8)\n",
    "val (trainX, trainY) = trainPair\n",
    "val (testX, testY) = testPair"
   ]
  },
  {
   "cell_type": "code",
   "execution_count": 17,
   "metadata": {},
   "outputs": [],
   "source": [
    "fun <T> DataFrame<T>.toX(): Array<FloatArray> = \n",
    "        merge { colsOf<Number>() }.by { it.map { it.toFloat() }.toFloatArray() }.into(\"X\")\n",
    "        .get { \"X\"<FloatArray>() }.toList().toTypedArray()"
   ]
  },
  {
   "cell_type": "code",
   "execution_count": 18,
   "metadata": {},
   "outputs": [],
   "source": [
    "fun <T> DataFrame<T>.toY() = get { \"quality\"<Int>() }.asIterable().map { it.toFloat() }.toFloatArray()"
   ]
  },
  {
   "cell_type": "code",
   "execution_count": 19,
   "metadata": {},
   "outputs": [],
   "source": [
    "val trainXDL = trainX.toX()\n",
    "val trainYDL = trainY.toY()\n",
    "val testXDL = testX.toX()\n",
    "val testYDL = testY.toY()"
   ]
  },
  {
   "cell_type": "code",
   "execution_count": 20,
   "metadata": {},
   "outputs": [],
   "source": [
    "val trainKotlinDLDataset = OnHeapDataset.create({trainXDL}, {trainYDL})\n",
    "val testKotlinDLDataset = OnHeapDataset.create({testXDL}, {testYDL})"
   ]
  },
  {
   "cell_type": "code",
   "execution_count": 21,
   "metadata": {},
   "outputs": [
    {
     "name": "stdout",
     "output_type": "stream",
     "text": [
      "==============================================================================\n",
      "Model type: Sequential\n",
      "______________________________________________________________________________\n",
      "Layer (type)                           Output Shape              Param #      \n",
      "==============================================================================\n",
      "input_1(Input)                         [None, 8]                 0            \n",
      "______________________________________________________________________________\n",
      "dense_2(Dense)                         [None, 80]                720          \n",
      "______________________________________________________________________________\n",
      "dense_3(Dense)                         [None, 80]                6480         \n",
      "______________________________________________________________________________\n",
      "dense_4(Dense)                         [None, 1]                 81           \n",
      "______________________________________________________________________________\n",
      "==============================================================================\n",
      "Total trainable params: 7281\n",
      "Total frozen params: 0\n",
      "Total params: 7281\n",
      "==============================================================================\n"
     ]
    }
   ],
   "source": [
    "val inputNeurons = train.x[0].size.toLong()\n",
    "\n",
    "val model2 = Sequential.of(\n",
    "    Input(\n",
    "        inputNeurons\n",
    "    ),\n",
    "    Dense(\n",
    "        outputSize = (inputNeurons * 10).toInt(),\n",
    "        activation = Activations.Tanh,\n",
    "        kernelInitializer = HeNormal(),\n",
    "        biasInitializer = HeNormal()\n",
    "    ),\n",
    "    Dense(\n",
    "        outputSize = (inputNeurons * 10).toInt(),\n",
    "        activation = Activations.Tanh,\n",
    "        kernelInitializer = HeNormal(),\n",
    "        biasInitializer = HeNormal()\n",
    "    ),\n",
    "    Dense(\n",
    "        outputSize = 1,\n",
    "        activation = Activations.Linear,\n",
    "        kernelInitializer = HeNormal(),\n",
    "        biasInitializer = HeNormal()\n",
    "    )\n",
    ")\n",
    "model2.compile(optimizer = Adam(), loss = Losses.MSE, metric = Metrics.MAE)\n",
    "model2.printSummary()"
   ]
  },
  {
   "cell_type": "code",
   "execution_count": 22,
   "metadata": {},
   "outputs": [
    {
     "data": {
      "text/html": [
       "        <html>\n",
       "        <head>\n",
       "            <style type=\"text/css\">\n",
       "                \n",
       "\n",
       "            </style>\n",
       "        </head>\n",
       "        <body>\n",
       "            <table class=\"dataframe\" id=\"df_1593835523\"/>\n",
       "\n",
       "<p>DataFrame [5 x 5]</p>\n",
       "        </body>\n",
       "        <script>\n",
       "            /*<!--*/\n",
       "addTable({ cols: [{ name: \"epochIndex\", children: [], rightAlign: true, values: [\"<span class=\\\"formatted\\\" title=\\\"\\\"><span class=\\\"numbers\\\">1996</span></span>\",\"<span class=\\\"formatted\\\" title=\\\"\\\"><span class=\\\"numbers\\\">1997</span></span>\",\"<span class=\\\"formatted\\\" title=\\\"\\\"><span class=\\\"numbers\\\">1998</span></span>\",\"<span class=\\\"formatted\\\" title=\\\"\\\"><span class=\\\"numbers\\\">1999</span></span>\",\"<span class=\\\"formatted\\\" title=\\\"\\\"><span class=\\\"numbers\\\">2000</span></span>\"] }, \n",
       "{ name: \"lossValue\", children: [], rightAlign: true, values: [\"<span class=\\\"formatted\\\" title=\\\"\\\"><span class=\\\"numbers\\\">0.334712</span></span>\",\"<span class=\\\"formatted\\\" title=\\\"\\\"><span class=\\\"numbers\\\">0.334676</span></span>\",\"<span class=\\\"formatted\\\" title=\\\"\\\"><span class=\\\"numbers\\\">0.334639</span></span>\",\"<span class=\\\"formatted\\\" title=\\\"\\\"><span class=\\\"numbers\\\">0.334603</span></span>\",\"<span class=\\\"formatted\\\" title=\\\"\\\"><span class=\\\"numbers\\\">0.334566</span></span>\"] }, \n",
       "{ name: \"metricValue\", children: [], rightAlign: true, values: [\"<span class=\\\"formatted\\\" title=\\\"\\\"><span class=\\\"numbers\\\">0.451025</span></span>\",\"<span class=\\\"formatted\\\" title=\\\"\\\"><span class=\\\"numbers\\\">0.450995</span></span>\",\"<span class=\\\"formatted\\\" title=\\\"\\\"><span class=\\\"numbers\\\">0.450964</span></span>\",\"<span class=\\\"formatted\\\" title=\\\"\\\"><span class=\\\"numbers\\\">0.450934</span></span>\",\"<span class=\\\"formatted\\\" title=\\\"\\\"><span class=\\\"numbers\\\">0.450903</span></span>\"] }, \n",
       "{ name: \"valLossValue\", children: [], rightAlign: true, values: [\"<span class=\\\"formatted\\\" title=\\\"\\\"><span class=\\\"numbers\\\">NaN</span></span>\",\"<span class=\\\"formatted\\\" title=\\\"\\\"><span class=\\\"numbers\\\">NaN</span></span>\",\"<span class=\\\"formatted\\\" title=\\\"\\\"><span class=\\\"numbers\\\">NaN</span></span>\",\"<span class=\\\"formatted\\\" title=\\\"\\\"><span class=\\\"numbers\\\">NaN</span></span>\",\"<span class=\\\"formatted\\\" title=\\\"\\\"><span class=\\\"numbers\\\">NaN</span></span>\"] }, \n",
       "{ name: \"valMetricValue\", children: [], rightAlign: true, values: [\"<span class=\\\"formatted\\\" title=\\\"\\\"><span class=\\\"numbers\\\">NaN</span></span>\",\"<span class=\\\"formatted\\\" title=\\\"\\\"><span class=\\\"numbers\\\">NaN</span></span>\",\"<span class=\\\"formatted\\\" title=\\\"\\\"><span class=\\\"numbers\\\">NaN</span></span>\",\"<span class=\\\"formatted\\\" title=\\\"\\\"><span class=\\\"numbers\\\">NaN</span></span>\",\"<span class=\\\"formatted\\\" title=\\\"\\\"><span class=\\\"numbers\\\">NaN</span></span>\"] }, \n",
       "], id: 1593835523, rootId: 1593835523 } )\n",
       "/*-->*/\n",
       "\n",
       "renderTable(1593835523)\n",
       "\n",
       "        </script>\n",
       "        </html>"
      ]
     },
     "execution_count": 22,
     "metadata": {},
     "output_type": "execute_result"
    }
   ],
   "source": [
    "val trainHist = model2.fit(train, batchSize = 500, epochs=2000)\n",
    "trainHist.epochHistory.createDataFrame().tail()"
   ]
  },
  {
   "cell_type": "code",
   "execution_count": 23,
   "metadata": {},
   "outputs": [
    {
     "data": {
      "text/plain": [
       "5.1862893"
      ]
     },
     "execution_count": 23,
     "metadata": {},
     "output_type": "execute_result"
    }
   ],
   "source": [
    "model2.predictSoftly(testXDL[9])[0]"
   ]
  },
  {
   "cell_type": "code",
   "execution_count": 24,
   "metadata": {},
   "outputs": [
    {
     "data": {
      "text/plain": [
       "6.0"
      ]
     },
     "execution_count": 24,
     "metadata": {},
     "output_type": "execute_result"
    }
   ],
   "source": [
    "testYDL[9]"
   ]
  },
  {
   "cell_type": "markdown",
   "metadata": {},
   "source": [
    "We can also compare predicted and ground truth values to ensure predictions are correct"
   ]
  },
  {
   "cell_type": "code",
   "execution_count": 25,
   "metadata": {},
   "outputs": [],
   "source": [
    "val predicted = testXDL.mapIndexed  { i, _ -> \n",
    "        round(model2.predictSoftly(testXDL[i])[0]).toInt()\n",
    "    }.toColumn(\"predicted\")\n",
    "\n",
    "val ground_truth = testYDL.mapIndexed  { i, _ -> \n",
    "       testYDL[i].toInt()\n",
    "    }.toColumn(\"ground_truth\")\n",
    "\n",
    "val predDf = dataFrameOf(predicted, ground_truth)"
   ]
  },
  {
   "cell_type": "code",
   "execution_count": 26,
   "metadata": {},
   "outputs": [
    {
     "data": {
      "text/html": [
       "        <html>\n",
       "        <head>\n",
       "            <style type=\"text/css\">\n",
       "                \n",
       "\n",
       "            </style>\n",
       "        </head>\n",
       "        <body>\n",
       "            <table class=\"dataframe\" id=\"df_1593835524\"/>\n",
       "\n",
       "<p>DataFrame [5 x 2]</p>\n",
       "        </body>\n",
       "        <script>\n",
       "            /*<!--*/\n",
       "addTable({ cols: [{ name: \"predicted\", children: [], rightAlign: true, values: [\"<span class=\\\"formatted\\\" title=\\\"\\\"><span class=\\\"numbers\\\">6</span></span>\",\"<span class=\\\"formatted\\\" title=\\\"\\\"><span class=\\\"numbers\\\">5</span></span>\",\"<span class=\\\"formatted\\\" title=\\\"\\\"><span class=\\\"numbers\\\">5</span></span>\",\"<span class=\\\"formatted\\\" title=\\\"\\\"><span class=\\\"numbers\\\">5</span></span>\",\"<span class=\\\"formatted\\\" title=\\\"\\\"><span class=\\\"numbers\\\">7</span></span>\"] }, \n",
       "{ name: \"ground_truth\", children: [], rightAlign: true, values: [\"<span class=\\\"formatted\\\" title=\\\"\\\"><span class=\\\"numbers\\\">5</span></span>\",\"<span class=\\\"formatted\\\" title=\\\"\\\"><span class=\\\"numbers\\\">5</span></span>\",\"<span class=\\\"formatted\\\" title=\\\"\\\"><span class=\\\"numbers\\\">5</span></span>\",\"<span class=\\\"formatted\\\" title=\\\"\\\"><span class=\\\"numbers\\\">5</span></span>\",\"<span class=\\\"formatted\\\" title=\\\"\\\"><span class=\\\"numbers\\\">7</span></span>\"] }, \n",
       "], id: 1593835524, rootId: 1593835524 } )\n",
       "/*-->*/\n",
       "\n",
       "renderTable(1593835524)\n",
       "\n",
       "        </script>\n",
       "        </html>"
      ]
     },
     "execution_count": 26,
     "metadata": {},
     "output_type": "execute_result"
    }
   ],
   "source": [
    "predDf.head()"
   ]
  },
  {
   "cell_type": "code",
   "execution_count": 27,
   "metadata": {},
   "outputs": [
    {
     "data": {
      "text/html": [
       "        <html>\n",
       "        <head>\n",
       "            <style type=\"text/css\">\n",
       "                \n",
       "\n",
       "            </style>\n",
       "        </head>\n",
       "        <body>\n",
       "            <table class=\"dataframe\" id=\"df_1593835525\"/>\n",
       "\n",
       "<p>DataFrame [6 x 5]</p>\n",
       "        </body>\n",
       "        <script>\n",
       "            /*<!--*/\n",
       "addTable({ cols: [{ name: \"ground_truth\", children: [], rightAlign: true, values: [\"<span class=\\\"formatted\\\" title=\\\"\\\"><span class=\\\"numbers\\\">3</span></span>\",\"<span class=\\\"formatted\\\" title=\\\"\\\"><span class=\\\"numbers\\\">4</span></span>\",\"<span class=\\\"formatted\\\" title=\\\"\\\"><span class=\\\"numbers\\\">5</span></span>\",\"<span class=\\\"formatted\\\" title=\\\"\\\"><span class=\\\"numbers\\\">6</span></span>\",\"<span class=\\\"formatted\\\" title=\\\"\\\"><span class=\\\"numbers\\\">7</span></span>\",\"<span class=\\\"formatted\\\" title=\\\"\\\"><span class=\\\"numbers\\\">8</span></span>\"] }, \n",
       "{ name: \"6\", children: [], rightAlign: true, values: [{ style: \"background-color:#32be32\", value: \"<span class=\\\"formatted\\\" title=\\\"\\\"><span class=\\\"numbers\\\">0</span></span>\"},{ style: \"background-color:#32d232\", value: \"<span class=\\\"formatted\\\" title=\\\"\\\"><span class=\\\"numbers\\\">1</span></span>\"},{ style: \"background-color:#32e632\", value: \"<span class=\\\"formatted\\\" title=\\\"\\\"><span class=\\\"numbers\\\">31</span></span>\"},{ style: \"background-color:#32fa32\", value: \"<span class=\\\"formatted\\\" title=\\\"\\\"><span class=\\\"numbers\\\">96</span></span>\"},{ style: \"background-color:#32e632\", value: \"<span class=\\\"formatted\\\" title=\\\"\\\"><span class=\\\"numbers\\\">16</span></span>\"},{ style: \"background-color:#32d232\", value: \"<span class=\\\"formatted\\\" title=\\\"\\\"><span class=\\\"numbers\\\">1</span></span>\"}] }, \n",
       "{ name: \"5\", children: [], rightAlign: true, values: [{ style: \"background-color:#32d232\", value: \"<span class=\\\"formatted\\\" title=\\\"\\\"><span class=\\\"numbers\\\">0</span></span>\"},{ style: \"background-color:#32e632\", value: \"<span class=\\\"formatted\\\" title=\\\"\\\"><span class=\\\"numbers\\\">8</span></span>\"},{ style: \"background-color:#32fa32\", value: \"<span class=\\\"formatted\\\" title=\\\"\\\"><span class=\\\"numbers\\\">116</span></span>\"},{ style: \"background-color:#32e632\", value: \"<span class=\\\"formatted\\\" title=\\\"\\\"><span class=\\\"numbers\\\">28</span></span>\"},{ style: \"background-color:#32d232\", value: \"<span class=\\\"formatted\\\" title=\\\"\\\"><span class=\\\"numbers\\\">0</span></span>\"},{ style: \"background-color:#32be32\", value: \"<span class=\\\"formatted\\\" title=\\\"\\\"><span class=\\\"numbers\\\">0</span></span>\"}] }, \n",
       "{ name: \"7\", children: [], rightAlign: true, values: [{ style: \"background-color:#32aa32\", value: \"<span class=\\\"formatted\\\" title=\\\"\\\"><span class=\\\"numbers\\\">0</span></span>\"},{ style: \"background-color:#32be32\", value: \"<span class=\\\"formatted\\\" title=\\\"\\\"><span class=\\\"numbers\\\">0</span></span>\"},{ style: \"background-color:#32d232\", value: \"<span class=\\\"formatted\\\" title=\\\"\\\"><span class=\\\"numbers\\\">0</span></span>\"},{ style: \"background-color:#32e632\", value: \"<span class=\\\"formatted\\\" title=\\\"\\\"><span class=\\\"numbers\\\">6</span></span>\"},{ style: \"background-color:#32fa32\", value: \"<span class=\\\"formatted\\\" title=\\\"\\\"><span class=\\\"numbers\\\">14</span></span>\"},{ style: \"background-color:#32e632\", value: \"<span class=\\\"formatted\\\" title=\\\"\\\"><span class=\\\"numbers\\\">1</span></span>\"}] }, \n",
       "{ name: \"4\", children: [], rightAlign: true, values: [{ style: \"background-color:#32e632\", value: \"<span class=\\\"formatted\\\" title=\\\"\\\"><span class=\\\"numbers\\\">1</span></span>\"},{ style: \"background-color:#32fa32\", value: \"<span class=\\\"formatted\\\" title=\\\"\\\"><span class=\\\"numbers\\\">0</span></span>\"},{ style: \"background-color:#32e632\", value: \"<span class=\\\"formatted\\\" title=\\\"\\\"><span class=\\\"numbers\\\">0</span></span>\"},{ style: \"background-color:#32d232\", value: \"<span class=\\\"formatted\\\" title=\\\"\\\"><span class=\\\"numbers\\\">0</span></span>\"},{ style: \"background-color:#32be32\", value: \"<span class=\\\"formatted\\\" title=\\\"\\\"><span class=\\\"numbers\\\">0</span></span>\"},{ style: \"background-color:#32aa32\", value: \"<span class=\\\"formatted\\\" title=\\\"\\\"><span class=\\\"numbers\\\">0</span></span>\"}] }, \n",
       "], id: 1593835525, rootId: 1593835525 } )\n",
       "/*-->*/\n",
       "\n",
       "renderTable(1593835525)\n",
       "\n",
       "        </script>\n",
       "        </html>"
      ]
     },
     "execution_count": 27,
     "metadata": {},
     "output_type": "execute_result"
    }
   ],
   "source": [
    "val inds = List(10){it + 1}\n",
    "val ctab = predDf.pivot(inward = false) { predicted }.groupBy { ground_truth }.count().sortBy { ground_truth }\n",
    "\n",
    "FormattedFrame(ctab) { row, col ->\n",
    "    val y = col.name().toIntOrNull()\n",
    "    val x = row.ground_truth\n",
    "    if (y != null) {\n",
    "        val k = 1.0 - abs(x - y)/10.0\n",
    "        FormattingDSL.background(RGBColor(50, (50 + k * 200).toInt().toShort(), 50))\n",
    "    } else null\n",
    "}"
   ]
  },
  {
   "cell_type": "code",
   "execution_count": 28,
   "metadata": {},
   "outputs": [],
   "source": [
    "val predDf2 = predDf.add(\"avg_dev\") { abs(predicted - ground_truth) }"
   ]
  },
  {
   "cell_type": "code",
   "execution_count": 29,
   "metadata": {},
   "outputs": [
    {
     "data": {
      "text/html": [
       "        <html>\n",
       "        <head>\n",
       "            <style type=\"text/css\">\n",
       "                \n",
       "\n",
       "            </style>\n",
       "        </head>\n",
       "        <body>\n",
       "            <table class=\"dataframe\" id=\"df_1593835526\"/>\n",
       "\n",
       "<p>DataFrame [1 x 12]</p>\n",
       "        </body>\n",
       "        <script>\n",
       "            /*<!--*/\n",
       "addTable({ cols: [{ name: \"name\", children: [], rightAlign: false, values: [\"avg_dev\"] }, \n",
       "{ name: \"type\", children: [], rightAlign: false, values: [\"Int\"] }, \n",
       "{ name: \"count\", children: [], rightAlign: true, values: [\"<span class=\\\"formatted\\\" title=\\\"\\\"><span class=\\\"numbers\\\">319</span></span>\"] }, \n",
       "{ name: \"unique\", children: [], rightAlign: true, values: [\"<span class=\\\"formatted\\\" title=\\\"\\\"><span class=\\\"numbers\\\">3</span></span>\"] }, \n",
       "{ name: \"nulls\", children: [], rightAlign: true, values: [\"<span class=\\\"formatted\\\" title=\\\"\\\"><span class=\\\"numbers\\\">0</span></span>\"] }, \n",
       "{ name: \"top\", children: [], rightAlign: true, values: [\"<span class=\\\"formatted\\\" title=\\\"\\\"><span class=\\\"numbers\\\">0</span></span>\"] }, \n",
       "{ name: \"freq\", children: [], rightAlign: true, values: [\"<span class=\\\"formatted\\\" title=\\\"\\\"><span class=\\\"numbers\\\">226</span></span>\"] }, \n",
       "{ name: \"mean\", children: [], rightAlign: true, values: [\"<span class=\\\"formatted\\\" title=\\\"\\\"><span class=\\\"numbers\\\">0.297806</span></span>\"] }, \n",
       "{ name: \"std\", children: [], rightAlign: true, values: [\"<span class=\\\"formatted\\\" title=\\\"\\\"><span class=\\\"numbers\\\">8.408832</span></span>\"] }, \n",
       "{ name: \"min\", children: [], rightAlign: true, values: [\"<span class=\\\"formatted\\\" title=\\\"\\\"><span class=\\\"numbers\\\">0</span></span>\"] }, \n",
       "{ name: \"median\", children: [], rightAlign: true, values: [\"<span class=\\\"formatted\\\" title=\\\"\\\"><span class=\\\"numbers\\\">0</span></span>\"] }, \n",
       "{ name: \"max\", children: [], rightAlign: true, values: [\"<span class=\\\"formatted\\\" title=\\\"\\\"><span class=\\\"numbers\\\">2</span></span>\"] }, \n",
       "], id: 1593835526, rootId: 1593835526 } )\n",
       "/*-->*/\n",
       "\n",
       "renderTable(1593835526)\n",
       "\n",
       "        </script>\n",
       "        </html>"
      ]
     },
     "execution_count": 29,
     "metadata": {},
     "output_type": "execute_result"
    }
   ],
   "source": [
    "predDf2.avg_dev.cast<Double>().describe()"
   ]
  },
  {
   "cell_type": "code",
   "execution_count": 30,
   "metadata": {},
   "outputs": [
    {
     "data": {
      "text/html": [
       "        <html>\n",
       "        <head>\n",
       "            <style type=\"text/css\">\n",
       "                \n",
       "\n",
       "            </style>\n",
       "        </head>\n",
       "        <body>\n",
       "            <table class=\"dataframe\" id=\"df_1593835527\"/>\n",
       "\n",
       "<p>DataRow [3]</p>\n",
       "        </body>\n",
       "        <script>\n",
       "            /*<!--*/\n",
       "addTable({ cols: [{ name: \"predicted\", children: [], rightAlign: true, values: [\"<span class=\\\"formatted\\\" title=\\\"\\\"><span class=\\\"numbers\\\">6</span></span>\"] }, \n",
       "{ name: \"ground_truth\", children: [], rightAlign: true, values: [\"<span class=\\\"formatted\\\" title=\\\"\\\"><span class=\\\"numbers\\\">6</span></span>\"] }, \n",
       "{ name: \"avg_dev\", children: [], rightAlign: true, values: [\"<span class=\\\"formatted\\\" title=\\\"\\\"><span class=\\\"numbers\\\">0</span></span>\"] }, \n",
       "], id: 1593835527, rootId: 1593835527 } )\n",
       "/*-->*/\n",
       "\n",
       "renderTable(1593835527)\n",
       "\n",
       "        </script>\n",
       "        </html>"
      ]
     },
     "execution_count": 30,
     "metadata": {},
     "output_type": "execute_result"
    }
   ],
   "source": [
    "predDf2.sortBy { avg_dev }[(0.7 * (319 - 1)).toInt()]"
   ]
  },
  {
   "cell_type": "code",
   "execution_count": 31,
   "metadata": {},
   "outputs": [],
   "source": [
    "model2.close()"
   ]
  }
 ],
 "metadata": {
  "kernelspec": {
   "display_name": "Kotlin",
   "language": "kotlin",
   "name": "kotlin"
  },
  "language_info": {
   "codemirror_mode": "text/x-kotlin",
   "file_extension": ".kt",
   "mimetype": "text/x-kotlin",
   "name": "kotlin",
   "nbconvert_exporter": "",
   "pygments_lexer": "kotlin",
   "version": "1.6.20-dev-3702"
  }
 },
 "nbformat": 4,
 "nbformat_minor": 1
}
