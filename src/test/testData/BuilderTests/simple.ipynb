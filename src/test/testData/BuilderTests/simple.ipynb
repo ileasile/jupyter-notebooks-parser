{
    "metadata": {
        "kernelspec": {
            "name": "kotlin",
            "display_name": "Kotlin"
        },
        "language_info": {
            "name": "kotlin"
        }
    },
    "nbformat_minor": 5,
    "nbformat": 4,
    "cells": [
        {
            "id": "0",
            "cell_type": "markdown",
            "source": [
                "**Hello, world!**"
            ],
            "metadata": {},
            "attachments": null
        },
        {
            "id": "1",
            "cell_type": "code",
            "source": [
                "val x = 3"
            ],
            "metadata": {},
            "outputs": [],
            "execution_count": null
        }
    ]
}